{
 "cells": [
  {
   "cell_type": "code",
   "execution_count": 1,
   "metadata": {
    "collapsed": false
   },
   "outputs": [
    {
     "name": "stderr",
     "output_type": "stream",
     "text": [
      "Loading required package: xml2\n"
     ]
    }
   ],
   "source": [
    "library(rvest)"
   ]
  },
  {
   "cell_type": "code",
   "execution_count": 2,
   "metadata": {
    "collapsed": true
   },
   "outputs": [],
   "source": [
    "searchterms <- c(\n",
    "'T-Shirts',\n",
    "'Hats')"
   ]
  },
  {
   "cell_type": "code",
   "execution_count": 3,
   "metadata": {
    "collapsed": true
   },
   "outputs": [],
   "source": [
    "searchterms <- gsub(\" \",\"+\",searchterms)\n",
    "searchterms <- gsub(\"-\",\"+\",searchterms)\n",
    "prices <- list()"
   ]
  },
  {
   "cell_type": "code",
   "execution_count": 33,
   "metadata": {
    "collapsed": false
   },
   "outputs": [],
   "source": [
    "for(i in searchterms){\n",
    "  searchurl <- read_html(paste0(\"http://www1.macys.com/shop/search?keyword=\",i), verbose=TRUE)\n",
    "  itemprices <- html_text(html_nodes(searchurl,\".prices span .first-range\"))\n",
    "  prices[[i]] <- itemprices\n",
    "}"
   ]
  },
  {
   "cell_type": "code",
   "execution_count": 38,
   "metadata": {
    "collapsed": false
   },
   "outputs": [],
   "source": [
    "searchurl <- read_html('http://www1.macys.com/shop/search?keyword=Hats', verbose=TRUE)"
   ]
  },
  {
   "cell_type": "code",
   "execution_count": 39,
   "metadata": {
    "collapsed": false
   },
   "outputs": [
    {
     "data": {
      "text/plain": [
       "{xml_document}\n",
       "<html>\n",
       "[1] <head>\\n  <meta charset=\"utf-8\"/>\\n  <script type=\"text/javascript\"><![CD ...\n",
       "[2] <body>\\n  <div class=\"mboxDefault\"/>\\n  <script type=\"text/javascript\"><! ..."
      ]
     },
     "execution_count": 39,
     "metadata": {},
     "output_type": "execute_result"
    }
   ],
   "source": [
    "searchurl"
   ]
  },
  {
   "cell_type": "code",
   "execution_count": 35,
   "metadata": {
    "collapsed": false
   },
   "outputs": [
    {
     "data": {
      "text/plain": [
       "{xml_document}\n",
       "<CATALOG>\n",
       " [1] <CD>\\n    <TITLE>Empire Burlesque</TITLE>\\n    <ARTIST>Bob Dylan</ARTIST ...\n",
       " [2] <CD>\\n    <TITLE>Hide your heart</TITLE>\\n    <ARTIST>Bonnie Tylor</ARTI ...\n",
       " [3] <CD>\\n    <TITLE>Greatest Hits</TITLE>\\n    <ARTIST>Dolly Parton</ARTIST ...\n",
       " [4] <CD>\\n    <TITLE>Still got the blues</TITLE>\\n    <ARTIST>Gary More</ART ...\n",
       " [5] <CD>\\n    <TITLE>Eros</TITLE>\\n    <ARTIST>Eros Ramazzotti</ARTIST>\\n    ...\n",
       " [6] <CD>\\n    <TITLE>One night only</TITLE>\\n    <ARTIST>Bee Gees</ARTIST>\\n ...\n",
       " [7] <CD>\\n    <TITLE>Sylvias Mother</TITLE>\\n    <ARTIST>Dr.Hook</ARTIST>\\n  ...\n",
       " [8] <CD>\\n    <TITLE>Maggie May</TITLE>\\n    <ARTIST>Rod Stewart</ARTIST>\\n  ...\n",
       " [9] <CD>\\n    <TITLE>Romanza</TITLE>\\n    <ARTIST>Andrea Bocelli</ARTIST>\\n  ...\n",
       "[10] <CD>\\n    <TITLE>When a man loves a woman</TITLE>\\n    <ARTIST>Percy Sle ...\n",
       "[11] <CD>\\n    <TITLE>Black angel</TITLE>\\n    <ARTIST>Savage Rose</ARTIST>\\n ...\n",
       "[12] <CD>\\n    <TITLE>1999 Grammy Nominees</TITLE>\\n    <ARTIST>Many</ARTIST> ...\n",
       "[13] <CD>\\n    <TITLE>For the good times</TITLE>\\n    <ARTIST>Kenny Rogers</A ...\n",
       "[14] <CD>\\n    <TITLE>Big Willie style</TITLE>\\n    <ARTIST>Will Smith</ARTIS ...\n",
       "[15] <CD>\\n    <TITLE>Tupelo Honey</TITLE>\\n    <ARTIST>Van Morrison</ARTIST> ...\n",
       "[16] <CD>\\n    <TITLE>Soulsville</TITLE>\\n    <ARTIST>Jorn Hoel</ARTIST>\\n    ...\n",
       "[17] <CD>\\n    <TITLE>The very best of</TITLE>\\n    <ARTIST>Cat Stevens</ARTI ...\n",
       "[18] <CD>\\n    <TITLE>Stop</TITLE>\\n    <ARTIST>Sam Brown</ARTIST>\\n    <COUN ...\n",
       "[19] <CD>\\n    <TITLE>Bridge of Spies</TITLE>\\n    <ARTIST>T`Pau</ARTIST>\\n   ...\n",
       "[20] <CD>\\n    <TITLE>Private Dancer</TITLE>\\n    <ARTIST>Tina Turner</ARTIST ...\n",
       "..."
      ]
     },
     "execution_count": 35,
     "metadata": {},
     "output_type": "execute_result"
    }
   ],
   "source": [
    "cd"
   ]
  },
  {
   "cell_type": "code",
   "execution_count": 24,
   "metadata": {
    "collapsed": false
   },
   "outputs": [
    {
     "data": {
      "text/plain": [
       "{xml_nodeset (0)}"
      ]
     },
     "execution_count": 24,
     "metadata": {},
     "output_type": "execute_result"
    }
   ],
   "source": [
    "y"
   ]
  },
  {
   "cell_type": "code",
   "execution_count": null,
   "metadata": {
    "collapsed": true
   },
   "outputs": [],
   "source": []
  }
 ],
 "metadata": {
  "kernelspec": {
   "display_name": "R",
   "language": "R",
   "name": "ir"
  },
  "language_info": {
   "codemirror_mode": "r",
   "file_extension": ".r",
   "mimetype": "text/x-r-source",
   "name": "R",
   "pygments_lexer": "r",
   "version": "3.2.3"
  }
 },
 "nbformat": 4,
 "nbformat_minor": 0
}
