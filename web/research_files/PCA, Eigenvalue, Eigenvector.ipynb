{
 "cells": [
  {
   "cell_type": "code",
   "execution_count": 127,
   "metadata": {
    "collapsed": false,
    "scrolled": true
   },
   "outputs": [
    {
     "name": "stdout",
     "output_type": "stream",
     "text": [
      "(148, 32)\n",
      "sample row:  [-0.0168      0.09261053 -0.01422944  0.00085329 -0.15273385  0.03755834\n",
      "  0.02318159 -0.00445957  0.00330105 -0.08116464  0.08714743 -0.09668426\n",
      "  0.06979127 -0.09501983  0.03218708 -0.13780884  0.15703218 -0.00677589\n",
      " -0.06745426  0.00915324 -0.07446115  0.05752603 -0.03881522  0.11161794\n",
      " -0.05273484  0.08420188 -0.04607607  0.07339843 -0.04730323  0.05731678\n",
      " -0.1815016   0.04289703]\n"
     ]
    }
   ],
   "source": [
    "# http://gorayni.blogspot.com/2014/12/factor-analysis.html\n",
    "\n",
    "import os\n",
    "import numpy as np\n",
    "from sklearn.decomposition import PCA\n",
    "\n",
    "#basedir = os.path.abspath(os.path.dirname(__file__)) + \"/\"\n",
    "filename = 'gopro_raw_data_weighted_v1.csv'\n",
    "# weighted3 = weight * raw_data\n",
    "# weighted2 = (weight * raw_data) * sqrt(weight)\n",
    "# weighted =  (raw_data(i) - raw_data(mean)) * sqrt(weight)  ***matches SPSS output\n",
    "X = np.asmatrix(np.genfromtxt(filename, delimiter=',', skip_header=1))\n",
    "names = list(np.genfromtxt(filename, delimiter=',', names=True).dtype.names)\n",
    "X_df = pd.DataFrame(X, columns=names)\n",
    "\n",
    "n_components = 32\n",
    "pca = PCA(n_components=n_components)\n",
    "pca.fit(X_df)\n",
    "\n",
    "factor_matrix = pca.components_.T\n",
    "factor_matrix_df = pd.DataFrame(factor_matrix)\n",
    "\n",
    "print factor_matrix.shape\n",
    "print \"sample row: \", factor_matrix[0]\n",
    "\n",
    "filename_2 = 'gopro_weighted2_PCA_df.csv'\n",
    "factor_matrix_df.to_csv(filename_2, index=True)"
   ]
  },
  {
   "cell_type": "code",
   "execution_count": 136,
   "metadata": {
    "collapsed": false
   },
   "outputs": [
    {
     "name": "stdout",
     "output_type": "stream",
     "text": [
      "(148,)\n",
      "Eigenvalue 1 from correlation matrix: 24.1576881978\n",
      "----------------------------------------\n",
      "Eigenvalue 2 from correlation matrix: 7.44693208592\n",
      "----------------------------------------\n",
      "Eigenvalue 3 from correlation matrix: 5.46473447211\n",
      "----------------------------------------\n",
      "Eigenvalue 4 from correlation matrix: 4.94314906025\n",
      "----------------------------------------\n",
      "Eigenvalue 5 from correlation matrix: 3.68635160418\n",
      "----------------------------------------\n",
      "Eigenvalue 6 from correlation matrix: 3.434316545\n",
      "----------------------------------------\n",
      "Eigenvalue 7 from correlation matrix: 2.78967416025\n",
      "----------------------------------------\n",
      "Eigenvalue 8 from correlation matrix: 2.55600869513\n",
      "----------------------------------------\n",
      "Eigenvalue 9 from correlation matrix: 2.52687122754\n",
      "----------------------------------------\n",
      "Eigenvalue 10 from correlation matrix: 2.35669277993\n",
      "----------------------------------------\n",
      "Eigenvalue 11 from correlation matrix: 2.18777843394\n",
      "----------------------------------------\n",
      "Eigenvalue 12 from correlation matrix: 2.0387854864\n",
      "----------------------------------------\n",
      "Eigenvalue 13 from correlation matrix: 1.85198318012\n",
      "----------------------------------------\n",
      "Eigenvalue 14 from correlation matrix: 1.7451181785\n",
      "----------------------------------------\n",
      "Eigenvalue 15 from correlation matrix: 1.66533816453\n",
      "----------------------------------------\n",
      "Eigenvalue 16 from correlation matrix: 1.55524741945\n",
      "----------------------------------------\n",
      "Eigenvalue 17 from correlation matrix: 1.53893342554\n",
      "----------------------------------------\n",
      "Eigenvalue 18 from correlation matrix: 1.48798816644\n",
      "----------------------------------------\n",
      "Eigenvalue 19 from correlation matrix: 1.44567485934\n",
      "----------------------------------------\n",
      "Eigenvalue 20 from correlation matrix: 1.41540454971\n",
      "----------------------------------------\n",
      "Eigenvalue 21 from correlation matrix: 1.35401712186\n",
      "----------------------------------------\n",
      "Eigenvalue 22 from correlation matrix: 1.29290096361\n",
      "----------------------------------------\n",
      "Eigenvalue 23 from correlation matrix: 1.2335471038\n",
      "----------------------------------------\n",
      "Eigenvalue 24 from correlation matrix: 1.25967601198\n",
      "----------------------------------------\n",
      "Eigenvalue 25 from correlation matrix: 1.20496504105\n",
      "----------------------------------------\n",
      "Eigenvalue 26 from correlation matrix: 1.17096255851\n",
      "----------------------------------------\n",
      "Eigenvalue 27 from correlation matrix: 1.13411698904\n",
      "----------------------------------------\n",
      "Eigenvalue 28 from correlation matrix: 1.10632644997\n",
      "----------------------------------------\n",
      "Eigenvalue 29 from correlation matrix: 1.06809934917\n",
      "----------------------------------------\n",
      "Eigenvalue 30 from correlation matrix: 1.05392082305\n",
      "----------------------------------------\n",
      "Eigenvalue 31 from correlation matrix: 1.03211739769\n",
      "----------------------------------------\n",
      "Eigenvalue 32 from correlation matrix: 1.00877900745\n",
      "----------------------------------------\n",
      "eigenvectors: 32 148\n",
      "eigenvalues: 32 [24.157688197760837, 7.4469320859242849, 5.4647344721074091, 4.9431490602506649, 3.68635160418465, 3.4343165450007165, 2.7896741602464927, 2.5560086951294303, 2.5268712275350382, 2.3566927799274993, 2.1877784339356259, 2.038785486402019, 1.8519831801232025, 1.7451181784998215, 1.6653381645325454, 1.5552474194450636, 1.5389334255366303, 1.4879881664411454, 1.4456748593400441, 1.4154045497110064, 1.3540171218559265, 1.2929009636091022, 1.2335471038030454, 1.2596760119762136, 1.2049650410541499, 1.1709625585099404, 1.1341169890365304, 1.1063264499675189, 1.0680993491715172, 1.0539208230455439, 1.032117397694519, 1.0087790074540115]\n"
     ]
    }
   ],
   "source": [
    "#following http://sebastianraschka.com/Articles/2014_pca_step_by_step.html\n",
    "X_cor_mat = np.corrcoef(X.T)\n",
    "\n",
    "# eigenvectors and eigenvalues for the from the covariance matrix\n",
    "eig_val_cor, eig_vec_cor = np.linalg.eig(X_cor_mat)\n",
    "\n",
    "# filter for eigvec > 1.0, add to factor list\n",
    "eig_vec_cors = []; eig_val_cors = []\n",
    "\n",
    "print eig_vec_cor[:,1].shape\n",
    "for i in range(len(eig_val_cor)):\n",
    "    eigvec_cor = eig_vec_cor[:,i].reshape(1,148).T\n",
    "    if eig_val_cor[i] >=1:\n",
    "        #print('Eigenvector {}: \\n{}'.format(i+1, eigvec_cov))\n",
    "        print('Eigenvalue {} from correlation matrix: {}'.format(i+1, eig_val_cor[i]))\n",
    "        print(40 * '-')\n",
    "        \n",
    "        eig_vec_cors.append(eigvec_cor)\n",
    "        eig_val_cors.append(eig_val_cor[i])\n",
    "\n",
    "print 'eigenvectors:', len(eig_vec_cors), len(eig_vec_cors[0])\n",
    "print 'eigenvalues:', len(eig_val_cors), eig_val_cors, "
   ]
  },
  {
   "cell_type": "raw",
   "metadata": {},
   "source": [
    "Component Matrix - This table contains component loadings, which are the correlations between the variable [shape 1,1980] and the component[shape 1,148].  Because these are correlations, possible values range from -1 to +1.  On the /format subcommand, we used the option blank(.30), which tells SPSS not to print any of the correlations that are .3 or less.  This makes the output easier to read by removing the clutter of low correlations that are probably not meaningful anyway.  "
   ]
  },
  {
   "cell_type": "code",
   "execution_count": 242,
   "metadata": {
    "collapsed": false
   },
   "outputs": [
    {
     "name": "stdout",
     "output_type": "stream",
     "text": [
      "32\n",
      "(32, 148)\n",
      "32\n"
     ]
    },
    {
     "ename": "ValueError",
     "evalue": "shapes (32,148) and (1,32) not aligned: 148 (dim 1) != 1 (dim 0)",
     "output_type": "error",
     "traceback": [
      "\u001b[0;31m---------------------------------------------------------------------------\u001b[0m",
      "\u001b[0;31mValueError\u001b[0m                                Traceback (most recent call last)",
      "\u001b[0;32m<ipython-input-242-12fcfc775959>\u001b[0m in \u001b[0;36m<module>\u001b[0;34m()\u001b[0m\n\u001b[1;32m     12\u001b[0m \u001b[0;32mprint\u001b[0m \u001b[0mlen\u001b[0m\u001b[0;34m(\u001b[0m\u001b[0meig_val_cors\u001b[0m\u001b[0;34m)\u001b[0m\u001b[0;34m\u001b[0m\u001b[0m\n\u001b[1;32m     13\u001b[0m \u001b[0meig_val_cors2\u001b[0m \u001b[0;34m=\u001b[0m \u001b[0mnp\u001b[0m\u001b[0;34m.\u001b[0m\u001b[0masarray\u001b[0m\u001b[0;34m(\u001b[0m\u001b[0meig_val_cors\u001b[0m\u001b[0;34m)\u001b[0m\u001b[0;34m\u001b[0m\u001b[0m\n\u001b[0;32m---> 14\u001b[0;31m \u001b[0meigenvector_matrix\u001b[0m \u001b[0;34m*\u001b[0m \u001b[0meig_val_cors2\u001b[0m\u001b[0;34m.\u001b[0m\u001b[0mT\u001b[0m\u001b[0;34m\u001b[0m\u001b[0m\n\u001b[0m",
      "\u001b[0;32m/usr/local/lib/python2.7/site-packages/numpy/matrixlib/defmatrix.pyc\u001b[0m in \u001b[0;36m__mul__\u001b[0;34m(self, other)\u001b[0m\n\u001b[1;32m    341\u001b[0m         \u001b[0;32mif\u001b[0m \u001b[0misinstance\u001b[0m\u001b[0;34m(\u001b[0m\u001b[0mother\u001b[0m\u001b[0;34m,\u001b[0m \u001b[0;34m(\u001b[0m\u001b[0mN\u001b[0m\u001b[0;34m.\u001b[0m\u001b[0mndarray\u001b[0m\u001b[0;34m,\u001b[0m \u001b[0mlist\u001b[0m\u001b[0;34m,\u001b[0m \u001b[0mtuple\u001b[0m\u001b[0;34m)\u001b[0m\u001b[0;34m)\u001b[0m \u001b[0;34m:\u001b[0m\u001b[0;34m\u001b[0m\u001b[0m\n\u001b[1;32m    342\u001b[0m             \u001b[0;31m# This promotes 1-D vectors to row vectors\u001b[0m\u001b[0;34m\u001b[0m\u001b[0;34m\u001b[0m\u001b[0m\n\u001b[0;32m--> 343\u001b[0;31m             \u001b[0;32mreturn\u001b[0m \u001b[0mN\u001b[0m\u001b[0;34m.\u001b[0m\u001b[0mdot\u001b[0m\u001b[0;34m(\u001b[0m\u001b[0mself\u001b[0m\u001b[0;34m,\u001b[0m \u001b[0masmatrix\u001b[0m\u001b[0;34m(\u001b[0m\u001b[0mother\u001b[0m\u001b[0;34m)\u001b[0m\u001b[0;34m)\u001b[0m\u001b[0;34m\u001b[0m\u001b[0m\n\u001b[0m\u001b[1;32m    344\u001b[0m         \u001b[0;32mif\u001b[0m \u001b[0misscalar\u001b[0m\u001b[0;34m(\u001b[0m\u001b[0mother\u001b[0m\u001b[0;34m)\u001b[0m \u001b[0;32mor\u001b[0m \u001b[0;32mnot\u001b[0m \u001b[0mhasattr\u001b[0m\u001b[0;34m(\u001b[0m\u001b[0mother\u001b[0m\u001b[0;34m,\u001b[0m \u001b[0;34m'__rmul__'\u001b[0m\u001b[0;34m)\u001b[0m \u001b[0;34m:\u001b[0m\u001b[0;34m\u001b[0m\u001b[0m\n\u001b[1;32m    345\u001b[0m             \u001b[0;32mreturn\u001b[0m \u001b[0mN\u001b[0m\u001b[0;34m.\u001b[0m\u001b[0mdot\u001b[0m\u001b[0;34m(\u001b[0m\u001b[0mself\u001b[0m\u001b[0;34m,\u001b[0m \u001b[0mother\u001b[0m\u001b[0;34m)\u001b[0m\u001b[0;34m\u001b[0m\u001b[0m\n",
      "\u001b[0;31mValueError\u001b[0m: shapes (32,148) and (1,32) not aligned: 148 (dim 1) != 1 (dim 0)"
     ]
    }
   ],
   "source": [
    "# flatten eigenvector list, convert to matrix\n",
    "import itertools\n",
    "\n",
    "eigenvectors = [list(itertools.chain.from_iterable(vector)) for vector in eig_vec_cors]\n",
    "#print eig_vec_cors[0]\n",
    "#eigen_vector_matrix = np.asmatrix(eig_vec_cors)\n",
    "#one_eig_vec_cors = list(itertools.chain.from_iterable(eig_vec_cors[0]))\n",
    "#print len(one_eig_vec_cors)\n",
    "print len(eigenvectors)\n",
    "eigenvector_matrix = np.asmatrix(eigenvectors) \n",
    "print eigenvector_matrix.shape\n",
    "print len(eig_val_cors)\n",
    "#eig_val_cors2 = np.asarray(eig_val_cors)\n",
    "#eigenvector_matrix * eig_val_cors2.T"
   ]
  },
  {
   "cell_type": "code",
   "execution_count": 185,
   "metadata": {
    "collapsed": false
   },
   "outputs": [],
   "source": [
    "# data = [1980, 148] eigenvector_matrix = [148, 32] factor_matrix = [148,32]"
   ]
  },
  {
   "cell_type": "code",
   "execution_count": 243,
   "metadata": {
    "collapsed": false
   },
   "outputs": [
    {
     "name": "stdout",
     "output_type": "stream",
     "text": [
      "(32, 148)\n",
      "(32, 148)\n",
      "checksum -51.9290001362\n"
     ]
    }
   ],
   "source": [
    "# now calculate factor loadings (non-roatated)\n",
    "# http://stats.stackexchange.com/questions/143905/loadings-vs-eigenvectors-in-pca-when-to-use-one-or-another\n",
    "# print 'eigenvectors:', len(eig_vec_cors), len(eig_vec_cors[0])\n",
    "# print 'eigenvalues:', len(eig_val_cors), eig_val_cors,\n",
    "\n",
    "loading_factors_2 = [(np.sqrt(eig_val_cors[i]) * eigenvector_matrix[i,:]).tolist()[0] for i in range(len(eig_val_cors))]\n",
    "loading_factors_2_matrix = np.asmatrix(loading_factors_2)\n",
    "print loading_factors_2_matrix.shape\n",
    "\n",
    "#loading_factors = []\n",
    "loading_factors_matrix = np.zeros(eigenvector_matrix.shape)\n",
    "#print loading_factors_matrix_3.shape\n",
    "\n",
    "for i in range(len(eig_val_cors)):\n",
    "    z = eigenvector_matrix[i,:] # direction\n",
    "    y = np.sqrt(eig_val_cors[i]) # scale\n",
    "    loading_factors_matrix[i,:] = (z * y) # append one column\n",
    "    # loading_factor = (z * y).tolist()[0]\n",
    "    # print loading_factor.shape\n",
    "    # loading_factors.append(loading_factor)\n",
    "\n",
    "# print len(loading_factors)\n",
    "# print loading_factors[0].shape\n",
    "# print type(loading_factors[0])\n",
    "# print 'checksum:', sum(loading_factors[0])\n",
    "\n",
    "# loading_factors_matrix = np.asmatrix(loading_factors)\n",
    "print loading_factors_matrix.shape\n",
    "print 'checksum', sum(loading_factors_matrix[0,:])\n",
    "\n",
    "# print loading_factors_matrix_3.shape\n",
    "\n",
    "# http://stackoverflow.com/questions/14372613/efficient-creation-of-numpy-arrays-from-list-comprehension-and-in-general\n",
    "#(loading_factors_matrix_4[i,:] = (np.sqrt(eig_val_cors[i]) * eigenvector_matrix[i,:]) for i in range(len(eig_val_cors)))\n",
    "# loading_factors_matrix_4 = np.fromiter((np.sqrt(eig_val_cors[i]) * eigenvector_matrix[i,:] for i in range(len(eig_val_cors))),int)\n",
    "#z = eigenvector_matrix[0,:] \n",
    "#y = np.sqrt(eig_val_cors[0])\n",
    "#print \"eigenvector:\", z.shape # direction\n",
    "#print \"sqrt(eigenvalue):\", y # scale\n",
    "#print \"eigenvector * sqrt(eigenvalue):\", (z*y).shape, sum((z * y).tolist()[0]) \n",
    "# order (y*z) to match excel spss workbook then do pairwise comparisons to validate\n",
    "# (1, 148)\n",
    "# 4.9150471206\n",
    "# sum of eigenvector * sqrt(eigenvalue) = -51.9290001362 # matches excel spss output!"
   ]
  },
  {
   "cell_type": "code",
   "execution_count": 98,
   "metadata": {
    "collapsed": false
   },
   "outputs": [],
   "source": [
    "factor_matrix_df.index = names"
   ]
  },
  {
   "cell_type": "code",
   "execution_count": 414,
   "metadata": {
    "collapsed": false
   },
   "outputs": [
    {
     "name": "stdout",
     "output_type": "stream",
     "text": [
      "(148, 1980)\n",
      "(1980, 148)\n",
      "1.76612021656 -1.81811044543 -2.79458148384\n",
      "1.76476114 1.375213278 1.47015478\n",
      "X_weighted are similar\n"
     ]
    }
   ],
   "source": [
    "# (raw_data(i) - raw_data(mean)) * sqrt(weight)\n",
    "# http://stats.stackexchange.com/questions/113485/weighted-principal-components-analysis\n",
    "\n",
    "unweighted_filename = '/Users/pniessen/Rosetta_Desktop/Segmentation_2-point-0/sample_case_work/GoPro/gopro_raw_data_v1.csv'\n",
    "weights_filename = '/Users/pniessen/Rosetta_Desktop/Segmentation_2-point-0/segmentr/web/gopro_weights.csv'\n",
    "X_unweighted = np.asmatrix(np.genfromtxt(unweighted_filename, delimiter=',', skip_header=1))\n",
    "X_weights = np.asmatrix(np.genfromtxt(weights_filename, delimiter=',', skip_header=1))\n",
    "\n",
    "#print X_unweighted.shape, type(X_unweighted)\n",
    "#print X_weights.shape, type(X_weights)\n",
    "#X_unweighted[0,:].mean()\n",
    "X_unweighted_mean = (np.mean(X_unweighted, axis = 0))\n",
    "#print X_unweighted_mean.shape\n",
    "X_unweighted_centered = X_unweighted - X_unweighted_mean\n",
    "#print X_unweighted_centered.shape\n",
    "X_weights_sqrt = np.sqrt(X_weights)\n",
    "#print X_weights_sqrt.shape\n",
    "#print (X_unweighted_centered[:,0] * X_weights_sqrt)\n",
    "X_weighted_2 = np.multiply(X_unweighted_centered.T,np.sqrt(X_weights))\n",
    "print X_weighted_2.shape\n",
    "#print z[0,0], z[0,1], z[0,2]\n",
    "#print z[0,0], z[1,0], z[2,0]\n",
    "\n",
    "weighted_filename = 'gopro_raw_data_weighted_v1.csv'\n",
    "X_weighted = np.asmatrix(np.genfromtxt(weighted_filename, delimiter=',', skip_header=1))\n",
    "print X_weighted.shape\n",
    "\n",
    "print X_weighted_2[0,0], X_weighted_2[0,1], X_weighted_2[0,2]\n",
    "print X_weighted[0,0], X_weighted[0,1], X_weighted[0,2]\n",
    "if np.isclose(X_weighted.T, X_weighted_2).any():\n",
    "    print \"X_weighted are similar\""
   ]
  },
  {
   "cell_type": "code",
   "execution_count": 418,
   "metadata": {
    "collapsed": false
   },
   "outputs": [
    {
     "name": "stdout",
     "output_type": "stream",
     "text": [
      "eigenvectors: 32 148\n",
      "eigenvalues: 32 [24.155757104811965, 7.447113037334975, 5.4649400779285093, 4.9439310811318427, 3.6865391339364235, 3.4340997519313503, 2.7900305621016268, 2.5559640103493169, 2.5267444321276407, 2.3568300983347998, 2.1878297057233067, 2.0391067007640133, 1.8519169984271135, 1.7450205521411941, 1.6653690568723831, 1.555346555980647, 1.5388543760013815, 1.4881027933336286, 1.4457310452464551, 1.415433092928408, 1.3539280197718768, 1.2928889438417752, 1.2335816262655197, 1.2596567344409846, 1.2050707768655422, 1.1709719274729844, 1.1341913533372772, 1.106425002791019, 1.0682656195307005, 1.0540072137583119, 1.0321068155519082, 1.0088870160665773] 32\n",
      "(32, 148)\n",
      "(32, 148)\n",
      "(32, 148)\n",
      "loading_factors_matrix are similar\n"
     ]
    }
   ],
   "source": [
    "import os\n",
    "import numpy as np\n",
    "\n",
    "# input raw data, center, apply weights\n",
    "# (raw_data(i) - raw_data(mean)) * sqrt(weight)\n",
    "# http://stats.stackexchange.com/questions/113485/weighted-principal-components-analysis\n",
    "\n",
    "unweighted_filename = '/Users/pniessen/Rosetta_Desktop/Segmentation_2-point-0/sample_case_work/GoPro/gopro_raw_data_v1.csv'\n",
    "weights_filename = '/Users/pniessen/Rosetta_Desktop/Segmentation_2-point-0/segmentr/web/gopro_weights.csv'\n",
    "X_unweighted = np.asmatrix(np.genfromtxt(unweighted_filename, delimiter=',', skip_header=1))\n",
    "X_weights = np.asmatrix(np.genfromtxt(weights_filename, delimiter=',', skip_header=1))\n",
    "\n",
    "X_unweighted_mean = (np.mean(X_unweighted, axis = 0))\n",
    "X_unweighted_centered = X_unweighted - X_unweighted_mean\n",
    "X_weighted = np.multiply(X_unweighted_centered.T,np.sqrt(X_weights))\n",
    "X = X_weighted.T\n",
    "\n",
    "filename = 'gopro_raw_data_weighted_v1.csv'\n",
    "# weighted3 = weight * raw_data\n",
    "# weighted2 = (weight * raw_data) * sqrt(weight)\n",
    "# weighted = (raw_data(i) - raw_data(mean)) * sqrt(weight)  ***matches SPSS output\n",
    "#X = np.asmatrix(np.genfromtxt(filename, delimiter=',', skip_header=1))\n",
    "#print \"X shape: \", X.shape\n",
    "X_names = list(np.genfromtxt(filename, delimiter=',', names=True).dtype.names)\n",
    "\n",
    "#following http://sebastianraschka.com/Articles/2014_pca_step_by_step.html\n",
    "X_cor_mat = np.corrcoef(X.T)\n",
    "\n",
    "# eigenvectors and eigenvalues for the from the covariance matrix\n",
    "eig_val_cor, eig_vec_cor = np.linalg.eig(X_cor_mat)\n",
    "\n",
    "# filter for eigvec > 1.0, generate loading factor, add to loading_factors_matrix\n",
    "eig_vec_cors = []; eig_val_cors = []\n",
    "eig_vec_cors_length = eig_vec_cor[:,1].shape[0]\n",
    "loading_factors_matrix_2 = np.asmatrix(np.zeros((0,eig_vec_cors_length))) # matrix shape must be tupple\n",
    "\n",
    "for i in range(len(eig_val_cor)):\n",
    "    eigvec_cor = eig_vec_cor[:,i].reshape(1,eig_vec_cors_length).T\n",
    "    if eig_val_cor[i] >=1:\n",
    "        #print('Eigenvector {}: \\n{}'.format(i+1, eigvec_cov))\n",
    "        #print('Eigenvalue {} from correlation matrix: {}'.format(i+1, eig_val_cor[i]))\n",
    "        #print(40 * '-')\n",
    "        \n",
    "        # can we calculate loading factors right here and add to new matrix with np.append\n",
    "        eig_vec_cors.append(eigvec_cor) # direction\n",
    "        eig_val_cors.append(eig_val_cor[i]) # scale sqrt()\n",
    "        loading_factor = eigvec_cor * np.sqrt(eig_val_cor[i])\n",
    "        #print \"loading_factors_matrix_2 shape: \", loading_factors_matrix_2.shape\n",
    "        #print \"loading_factor shape: \", loading_factor.shape\n",
    "        loading_factors_matrix_2 = np.r_[loading_factors_matrix_2,loading_factor.T]\n",
    "        #print \"loading_factors_matrix_2 shape after append: \", loading_factors_matrix_2.shape\n",
    "\n",
    "print 'eigenvectors:', len(eig_vec_cors), len(eig_vec_cors[0])\n",
    "print 'eigenvalues:', len(eig_val_cors), eig_val_cors, \n",
    "\n",
    "# flatten eigenvector list, convert to matrix\n",
    "import itertools\n",
    "\n",
    "eigenvectors = [list(itertools.chain.from_iterable(vector)) for vector in eig_vec_cors]\n",
    "print len(eigenvectors)\n",
    "eigenvector_matrix = np.asmatrix(eigenvectors)\n",
    "\n",
    "# now calculate loading factors matrix\n",
    "loading_factors_matrix = np.zeros(eigenvector_matrix.shape)\n",
    "#print loading_factors_matrix.shape\n",
    "\n",
    "for i in range(len(eig_val_cors)):\n",
    "    z = eigenvector_matrix[i,:] # direction\n",
    "    y = np.sqrt(eig_val_cors[i]) # scale\n",
    "    loading_factors_matrix[i,:] = (z * y)\n",
    "\n",
    "print loading_factors_matrix.shape \n",
    "loading_factors_matrix_df = pd.DataFrame(loading_factors_matrix.T)\n",
    "loading_factors_matrix_df.index = X_names\n",
    "loading_factors_matrix_df\n",
    "\n",
    "filename_2 = 'gopro_loading_factors_matrix_df.csv'\n",
    "loading_factors_matrix_df.to_csv(filename_2, index=True)\n",
    "\n",
    "for i in range(loading_factors_matrix.shape[0]):\n",
    "    if not np.isclose(sum(loading_factors_matrix[i,:]),np.sum(loading_factors_matrix_2[i,:])):\n",
    "        print 'checksum', sum(loading_factors_matrix[i,:])\n",
    "        print 'checksum_2', np.sum(loading_factors_matrix_2[i,:])\n",
    "        print 'difference:', sum(loading_factors_matrix[i,:]) - np.sum(loading_factors_matrix_2[i,:])\n",
    "        print '-----------------'\n",
    "print loading_factors_matrix.shape\n",
    "print loading_factors_matrix_2.shape\n",
    "\n",
    "# test to see if methods are same\n",
    "if np.isclose(loading_factors_matrix, loading_factors_matrix_2).any():\n",
    "    print \"loading_factors_matrix are similar\"\n",
    "# print 'df_checksum', sum (loading_factors_matrix_df[0])\n",
    "# loading_factors_matrix_checksum = [sum(loading_factors_matrix[i,:]) for i in range(loading_factors_matrix.shape[0])]\n",
    "# print loading_factors_matrix_checksum"
   ]
  },
  {
   "cell_type": "code",
   "execution_count": 301,
   "metadata": {
    "collapsed": false
   },
   "outputs": [],
   "source": [
    "def varimax(Phi, gamma = 1.0, q = 100, tol = 1e-12):\n",
    "    from numpy import eye, asarray, dot, sum, diag\n",
    "    from numpy.linalg import svd\n",
    "    p,k = Phi.shape\n",
    "    R = eye(k)\n",
    "    d=0\n",
    "    for i in xrange(q):\n",
    "        d_old = d\n",
    "        Lambda = dot(Phi, R)\n",
    "        u,s,vh = svd(dot(Phi.T,asarray(Lambda)**3 - (gamma/p) * dot(Lambda, diag(diag(dot(Lambda.T,Lambda))))))\n",
    "        R = dot(u,vh)\n",
    "        d = sum(s)\n",
    "        #print i\n",
    "        if d_old!=0 and d/d_old < 1 + tol: \n",
    "            print \"convergence in: \", i, \"iterations\"\n",
    "            break\n",
    "    return dot(Phi, R)"
   ]
  },
  {
   "cell_type": "code",
   "execution_count": 419,
   "metadata": {
    "collapsed": false
   },
   "outputs": [
    {
     "name": "stdout",
     "output_type": "stream",
     "text": [
      "convergence in:  65 iterations\n",
      "convergence in:  65 iterations\n",
      "(148, 32)\n",
      "(148, 32)\n",
      "27.1063163763\n",
      "380.83076567\n",
      "27.1063163763\n",
      "380.83076567\n"
     ]
    }
   ],
   "source": [
    "loading_factors_matrix_rotated = varimax(loading_factors_matrix.T)\n",
    "loading_factors_matrix_rotated_2 = varimax(loading_factors_matrix_2.T)\n",
    "#loading_factors_matrix_rotated_df = pd.DataFrame(loading_factors_matrix_rotated.T)\n",
    "#loading_factors_matrix_rotated_df\n",
    "print loading_factors_matrix_rotated.shape\n",
    "print loading_factors_matrix_rotated_2.shape\n",
    "\n",
    "print sum(abs(loading_factors_matrix_rotated[:,0]))\n",
    "print sum(sum(abs(loading_factors_matrix_rotated)))\n",
    "\n",
    "print abs(loading_factors_matrix_rotated_2[:,0]).sum()\n",
    "print abs(loading_factors_matrix_rotated_2).sum()\n",
    "# convergence in:  86 iterations\n",
    "# 380.83097886"
   ]
  },
  {
   "cell_type": "code",
   "execution_count": 28,
   "metadata": {
    "collapsed": true
   },
   "outputs": [],
   "source": [
    "# MLE method of factor Analysis\n",
    "#!/usr/bin/env python\n",
    "from __future__ import division\n",
    "\n",
    "import numpy as np\n",
    "from numpy import linalg as la\n",
    "\n",
    "def factorAnalysis(x, numFactors, numIterations):    \n",
    "    numData, numDim = x.shape\n",
    "    mu = x.mean(axis=0)\n",
    "    x -= mu\n",
    "    \n",
    "    cov =(x.T*x)/numData\n",
    "\n",
    "    I = np.eye(numFactors)\n",
    "    Psi = np.diag(np.diag(cov))\n",
    "    scaling = np.power(la.det(cov), 1./numData)\n",
    "    W = np.random.normal(0,np.sqrt(scaling/numFactors),(numDim,numFactors))\n",
    "\n",
    "    oldL = -np.inf\n",
    "    for i in xrange(numIterations):\n",
    "        \n",
    "        # Expectation step\n",
    "        WPsi = np.dot(W.T,la.pinv(Psi)) \n",
    "        G = la.pinv(I+np.dot(WPsi,W))\n",
    "    \n",
    "        ez = np.dot(G,np.dot(WPsi,x.T)) \n",
    "        ezz = numData*G+np.dot(ez,ez.T)\n",
    "    \n",
    "        # Maximization step\n",
    "        xEz = np.dot(x.T,ez.T)\n",
    "        W = xEz*la.pinv(ezz)\n",
    "        Psi = np.diag(np.diag(cov-np.dot(W,xEz.T)/numData))\n",
    "        \n",
    "        # Log Likelihood\n",
    "        Sigma = W*W.T + Psi\n",
    "        logSigma = np.log(la.det(Sigma))\n",
    "        L = -numData/2*(np.trace(la.pinv(Sigma)*cov.T)+numDim*np.log(2*np.pi)+logSigma)\n",
    "        \n",
    "        if (L-oldL)<(1e-6):\n",
    "            break\n",
    "        oldL = L\n",
    "        \n",
    "    return W, Psi, mu"
   ]
  },
  {
   "cell_type": "raw",
   "metadata": {},
   "source": [
    "# The probability p(x|z)p(x|z) is also a Gaussian distribution defined as N(x|Wz+μ,Ψ), where W is the DxM factor loadings matrix, μ is the mean of x, and the matrix Ψ=diag(ψ1,…,ψD). Each column of the factor loadings matrix W captures the covariance among the variables and the diagonal values of Ψ are called uniquenesses."
   ]
  },
  {
   "cell_type": "code",
   "execution_count": 18,
   "metadata": {
    "collapsed": true
   },
   "outputs": [],
   "source": [
    "# Phi = W\n",
    "def varimax(Phi, gamma = 1.0, q = 100, tol = 1e-6):\n",
    "    from numpy import eye, asarray, dot, sum, diag\n",
    "    from numpy.linalg import svd\n",
    "    p,k = Phi.shape\n",
    "    R = eye(k)\n",
    "    d=0\n",
    "    for i in xrange(q):\n",
    "        d_old = d\n",
    "        Lambda = dot(Phi, R)\n",
    "        u,s,vh = svd(dot(Phi.T,asarray(Lambda)**3 - (gamma/p) * dot(Lambda, diag(diag(dot(Lambda.T,Lambda))))))\n",
    "        R = dot(u,vh)\n",
    "        d = sum(s)\n",
    "        print i\n",
    "        if d_old!=0 and d/d_old < 1 + tol: break\n",
    "    return dot(Phi, R)"
   ]
  },
  {
   "cell_type": "code",
   "execution_count": 31,
   "metadata": {
    "collapsed": false
   },
   "outputs": [],
   "source": [
    "scores = np.asmatrix(np.genfromtxt(\"http://www-eio.upc.es/~jan/Data/BookOpenClosed.dat\",delimiter=\"\\t\",skip_header=1))"
   ]
  },
  {
   "cell_type": "code",
   "execution_count": 53,
   "metadata": {
    "collapsed": false
   },
   "outputs": [
    {
     "name": "stdout",
     "output_type": "stream",
     "text": [
      "(88, 5)\n",
      "(1980, 148)\n"
     ]
    }
   ],
   "source": [
    "print scores.shape\n",
    "print X.shape\n",
    "#import sympy as sp\n",
    "#sp.init_printing()\n",
    "#sp.Matrix(scores[0:10,:])"
   ]
  },
  {
   "cell_type": "code",
   "execution_count": 56,
   "metadata": {
    "collapsed": true
   },
   "outputs": [],
   "source": [
    "[W, Psi, mu] = factorAnalysis(X, 32, 1000)"
   ]
  },
  {
   "cell_type": "code",
   "execution_count": 58,
   "metadata": {
    "collapsed": false
   },
   "outputs": [
    {
     "name": "stdout",
     "output_type": "stream",
     "text": [
      "(148, 32)\n",
      "[[ 0.02119839  0.0716727   0.06022885 ...,  0.41741411  0.08772163\n",
      "   0.40338747]\n",
      " [-0.09608771  0.22740218  0.07298899 ...,  0.49053622 -0.02268268\n",
      "   0.46165969]\n",
      " [ 0.02011928 -0.05268804  0.06911309 ..., -0.30084462  0.08099182\n",
      "  -0.39589764]\n",
      " ..., \n",
      " [-0.26992739  0.1004103   0.0850555  ..., -0.03956153 -0.02884643\n",
      "  -0.16202375]\n",
      " [ 0.01845861  0.04885697  0.34594024 ...,  0.01555451 -0.1268005\n",
      "  -0.13848667]\n",
      " [-0.09412024  0.06978918  0.28337721 ..., -0.03319552 -0.16611678\n",
      "  -0.17063972]]\n"
     ]
    }
   ],
   "source": [
    "print W.shape\n",
    "print W"
   ]
  },
  {
   "cell_type": "code",
   "execution_count": 29,
   "metadata": {
    "collapsed": false
   },
   "outputs": [
    {
     "ename": "ValueError",
     "evalue": "operands could not be broadcast together with shapes (148,1980) (1980,148) ",
     "output_type": "error",
     "traceback": [
      "\u001b[0;31m---------------------------------------------------------------------------\u001b[0m",
      "\u001b[0;31mValueError\u001b[0m                                Traceback (most recent call last)",
      "\u001b[0;32m<ipython-input-29-9d30e8710ee1>\u001b[0m in \u001b[0;36m<module>\u001b[0;34m()\u001b[0m\n\u001b[0;32m----> 1\u001b[0;31m \u001b[0;34m[\u001b[0m\u001b[0mW\u001b[0m\u001b[0;34m,\u001b[0m \u001b[0mPsi\u001b[0m\u001b[0;34m,\u001b[0m \u001b[0mmu\u001b[0m\u001b[0;34m]\u001b[0m \u001b[0;34m=\u001b[0m \u001b[0mfactorAnalysis\u001b[0m\u001b[0;34m(\u001b[0m\u001b[0mX\u001b[0m\u001b[0;34m,\u001b[0m \u001b[0;36m32\u001b[0m\u001b[0;34m,\u001b[0m \u001b[0;36m1000\u001b[0m\u001b[0;34m)\u001b[0m\u001b[0;34m\u001b[0m\u001b[0m\n\u001b[0m",
      "\u001b[0;32m<ipython-input-28-45f69f298e11>\u001b[0m in \u001b[0;36mfactorAnalysis\u001b[0;34m(x, numFactors, numIterations)\u001b[0m\n\u001b[1;32m     10\u001b[0m     \u001b[0mx\u001b[0m \u001b[0;34m-=\u001b[0m \u001b[0mmu\u001b[0m\u001b[0;34m\u001b[0m\u001b[0m\n\u001b[1;32m     11\u001b[0m \u001b[0;34m\u001b[0m\u001b[0m\n\u001b[0;32m---> 12\u001b[0;31m     \u001b[0mcov\u001b[0m \u001b[0;34m=\u001b[0m\u001b[0;34m(\u001b[0m\u001b[0mx\u001b[0m\u001b[0;34m.\u001b[0m\u001b[0mT\u001b[0m\u001b[0;34m*\u001b[0m\u001b[0mx\u001b[0m\u001b[0;34m)\u001b[0m\u001b[0;34m/\u001b[0m\u001b[0mnumData\u001b[0m\u001b[0;34m\u001b[0m\u001b[0m\n\u001b[0m\u001b[1;32m     13\u001b[0m \u001b[0;34m\u001b[0m\u001b[0m\n\u001b[1;32m     14\u001b[0m     \u001b[0mI\u001b[0m \u001b[0;34m=\u001b[0m \u001b[0mnp\u001b[0m\u001b[0;34m.\u001b[0m\u001b[0meye\u001b[0m\u001b[0;34m(\u001b[0m\u001b[0mnumFactors\u001b[0m\u001b[0;34m)\u001b[0m\u001b[0;34m\u001b[0m\u001b[0m\n",
      "\u001b[0;31mValueError\u001b[0m: operands could not be broadcast together with shapes (148,1980) (1980,148) "
     ]
    }
   ],
   "source": [
    "# http://stackoverflow.com/questions/24560298/python-numpy-valueerror-operands-could-not-be-broadcast-together-with-shapes\n",
    "[W, Psi, mu] = factorAnalysis(X, 32, 1000)"
   ]
  },
  {
   "cell_type": "code",
   "execution_count": 51,
   "metadata": {
    "collapsed": false
   },
   "outputs": [
    {
     "ename": "ValueError",
     "evalue": "operands could not be broadcast together with shapes (148,1980) (1980,148) ",
     "output_type": "error",
     "traceback": [
      "\u001b[0;31m---------------------------------------------------------------------------\u001b[0m",
      "\u001b[0;31mValueError\u001b[0m                                Traceback (most recent call last)",
      "\u001b[0;32m<ipython-input-51-d307d709a489>\u001b[0m in \u001b[0;36m<module>\u001b[0;34m()\u001b[0m\n\u001b[0;32m----> 1\u001b[0;31m \u001b[0mX\u001b[0m\u001b[0;34m.\u001b[0m\u001b[0mT\u001b[0m \u001b[0;34m*\u001b[0m \u001b[0mX\u001b[0m\u001b[0;34m\u001b[0m\u001b[0m\n\u001b[0m",
      "\u001b[0;31mValueError\u001b[0m: operands could not be broadcast together with shapes (148,1980) (1980,148) "
     ]
    }
   ],
   "source": [
    "X.T * X"
   ]
  },
  {
   "cell_type": "code",
   "execution_count": null,
   "metadata": {
    "collapsed": true
   },
   "outputs": [],
   "source": []
  },
  {
   "cell_type": "code",
   "execution_count": null,
   "metadata": {
    "collapsed": true
   },
   "outputs": [],
   "source": []
  },
  {
   "cell_type": "code",
   "execution_count": 481,
   "metadata": {
    "collapsed": false
   },
   "outputs": [
    {
     "name": "stdout",
     "output_type": "stream",
     "text": [
      "(32, 148)\n",
      "5.93393841669\n",
      "468.845148151\n",
      "[[ 0.10044908 -0.2573697  -0.11807879 ...,  0.08813666 -0.00421899\n",
      "  -0.06133222]\n",
      " [ 0.10234864 -0.22576888 -0.23456041 ...,  0.0228426   0.06087528\n",
      "  -0.12009664]\n",
      " [-0.28406691  0.37943922 -0.02530379 ..., -0.03923967 -0.00114615\n",
      "   0.14932747]\n",
      " ..., \n",
      " [-0.20858663  0.27096351  0.00158318 ..., -0.06873511 -0.01368568\n",
      "  -0.29288004]\n",
      " [-0.56348231  0.12280602  0.30693165 ..., -0.06220677 -0.03616688\n",
      "   0.03393988]\n",
      " [-0.40616038  0.30407462  0.16590372 ..., -0.10976092 -0.01455879\n",
      "   0.02870455]] 1.0 100 1e-10\n",
      "convergence in:  53 iterations\n",
      "(148, 32)\n",
      "27.1064098798\n",
      "380.830519715\n"
     ]
    }
   ],
   "source": [
    "import os\n",
    "import numpy as np\n",
    "from numpy import eye, asarray, dot, sum, diag\n",
    "from numpy.linalg import svd\n",
    "\n",
    "# input raw data, center, apply weights\n",
    "# (raw_data(i) - raw_data(mean)) * sqrt(weight)\n",
    "# http://stats.stackexchange.com/questions/113485/weighted-principal-components-analysis\n",
    "\n",
    "unweighted_filename = '/Users/pniessen/Rosetta_Desktop/Segmentation_2-point-0/sample_case_work/GoPro/gopro_raw_data_v1.csv'\n",
    "weights_filename = '/Users/pniessen/Rosetta_Desktop/Segmentation_2-point-0/segmentr/web/gopro_weights.csv'\n",
    "\n",
    "X_names = list(np.genfromtxt(unweighted_filename, delimiter=',', names=True).dtype.names)\n",
    "X_unweighted = np.asmatrix(np.genfromtxt(unweighted_filename, delimiter=',', skip_header=1))\n",
    "X_weights = np.asmatrix(np.genfromtxt(weights_filename, delimiter=',', skip_header=1))\n",
    "\n",
    "X_unweighted_mean = (np.mean(X_unweighted, axis = 0))\n",
    "X_unweighted_centered = X_unweighted - X_unweighted_mean\n",
    "X_weighted = np.multiply(X_unweighted_centered.T,np.sqrt(X_weights))\n",
    "X = X_weighted.T\n",
    "\n",
    "#following http://sebastianraschka.com/Articles/2014_pca_step_by_step.html\n",
    "# correlation matrix\n",
    "X_cor_mat = np.corrcoef(X.T)\n",
    "\n",
    "# get eigenvectors and eigenvalues for the from the correlation matrix\n",
    "eig_val_cor, eig_vec_cor = np.linalg.eig(X_cor_mat)\n",
    "\n",
    "# initialize empty loading_factor_matrix of (0 x length of eigenvector)\n",
    "eig_vec_cors_length = eig_vec_cor[:,1].shape[0]\n",
    "loading_factors_matrix_3 = np.asmatrix(np.zeros((0,eig_vec_cors_length))) # matrix shape must be tupple\n",
    "\n",
    "# filter for eigvec > 1.0, generate loading factor, add to loading_factors_matrix\n",
    "for i in range(len(eig_val_cor)):\n",
    "    one_eigenvector = eig_vec_cor[:,i].reshape(1,eig_vec_cors_length).T # unit vector, direction\n",
    "    one_eigenvalue = eig_val_cor[i] # scale\n",
    "    \n",
    "    if one_eigenvalue >=1:\n",
    "        # http://stats.stackexchange.com/questions/143905/loadings-vs-eigenvectors-in-pca-when-to-use-one-or-another\n",
    "        loading_factor = one_eigenvector * np.sqrt(one_eigenvalue)\n",
    "        loading_factors_matrix_3 = np.r_[loading_factors_matrix_3,loading_factor.T]\n",
    "\n",
    "print loading_factors_matrix_3.shape\n",
    "print loading_factors_matrix_3.T[:,1].sum()\n",
    "print abs(loading_factors_matrix_3.T).sum()\n",
    "        \n",
    "# now rotate loading_factor_matrix - this helps to filter out 'midrange' factors\n",
    "# http://stackoverflow.com/questions/17628589/perform-varimax-rotation-in-python-using-numpy\n",
    "def varimax(Phi, gamma = 1.0, q = 100, tol = 1e-10):\n",
    "    \n",
    "    print Phi, gamma, q, tol\n",
    "    # gamma = 1.0: varimax\n",
    "    # gamma = 0.0: quartimax  (https://github.com/rossfadely/consomme/blob/master/consomme/rotate_factor.py)\n",
    "\n",
    "    p,k = Phi.shape\n",
    "    R = eye(k) # identity matrix\n",
    "    d=0\n",
    "    for i in xrange(q):\n",
    "        d_old = d\n",
    "        Lambda = dot(Phi, R)\n",
    "        u,s,vh = svd(dot(Phi.T,asarray(Lambda)**3 - (gamma/p) * dot(Lambda, diag(diag(dot(Lambda.T,Lambda))))))\n",
    "        R = dot(u,vh)\n",
    "        d = sum(s)\n",
    "        #print i\n",
    "        if d_old!=0 and d/d_old < 1 + tol: \n",
    "            print \"convergence in: \", i, \"iterations\"\n",
    "            break\n",
    "    return dot(Phi, R)\n",
    "\n",
    "loading_factors_matrix_rotated_3 = varimax(loading_factors_matrix_3.T)\n",
    "print loading_factors_matrix_rotated_3.shape\n",
    "print abs(loading_factors_matrix_rotated_3[:,0]).sum()\n",
    "print abs(loading_factors_matrix_rotated_3).sum()\n",
    "\n",
    "# tested vs SPSS output using gopro data\n",
    "# for explanation of SPSS output\n",
    "# see http://www.ats.ucla.edu/stat/spss/output/principal_components.htm\n",
    "# ----------------\n",
    "# SPSS loading factor matrix files:\n",
    "# spss_unrotated: (148, 32) 468.803663037\n",
    "# spss_rotated: (148, 32) sum: 381.386018769\n",
    "# ----------------\n",
    "# Homebrew loading factor matrix files:\n",
    "# homebrew_unrotated: (148, 32) sum: 468.845148151\n",
    "# homebrew_rotated: (148, 32) sum: 380.83076567\n",
    "# -----pairwise comparison-------------\n",
    "# unrotated loading_factors_matrix are similar using np.isclose @ atol = 1e-04\n",
    "# rotated loading_factors_matrix are similar using np.isclose @ atol = 1e-04\n"
   ]
  },
  {
   "cell_type": "code",
   "execution_count": 436,
   "metadata": {
    "collapsed": false
   },
   "outputs": [
    {
     "name": "stdout",
     "output_type": "stream",
     "text": [
      "(148, 32)\n",
      "(148, 32)\n"
     ]
    }
   ],
   "source": [
    "# now test vs SPSS output\n",
    "spss_unrotated_filename = '/Users/pniessen/Rosetta_Desktop/Segmentation_2-point-0/segmentr/web/gopro_spss_unrotated_factor_matrix.csv'\n",
    "loading_factors_spss_unrotated = np.asmatrix(np.genfromtxt(spss_unrotated_filename, delimiter=',', skip_header=1))\n",
    "\n",
    "spss_rotated_filename = '/Users/pniessen/Rosetta_Desktop/Segmentation_2-point-0/segmentr/web/gopro_spss_rotated_factor_matrix.csv'\n",
    "loading_factors_spss_rotated = np.asmatrix(np.genfromtxt(spss_rotated_filename, delimiter=',', skip_header=1))\n",
    "\n",
    "loading_factors_spss_unrotated = loading_factors_spss_unrotated[:,1:] # remove row labels\n",
    "print loading_factors_spss_unrotated.shape\n",
    "loading_factors_spss_rotated = loading_factors_spss_rotated[:,1:] # remove row labels\n",
    "print loading_factors_spss_rotated.shape\n",
    "\n"
   ]
  },
  {
   "cell_type": "code",
   "execution_count": 465,
   "metadata": {
    "collapsed": false
   },
   "outputs": [
    {
     "name": "stdout",
     "output_type": "stream",
     "text": [
      "SPSS loading factor matrix files:\n",
      "spss_unrotated: (148, 32) 468.803663037\n",
      "spss_rotated: (148, 32) sum: 381.386018769\n",
      "----------------\n",
      "Homebrew loading factor matrix files:\n",
      "homebrew_unrotated: (148, 32) sum: 468.845148151\n",
      "homebrew_rotated: (148, 32) sum: 380.83076567\n",
      "-----pairwise comparison-------------\n",
      "unrotated loading_factors_matrix are similar using np.isclose\n",
      "rotated loading_factors_matrix are similar using np.isclose\n"
     ]
    }
   ],
   "source": [
    "# test to see if methods are same\n",
    "print 'SPSS loading factor matrix files:'\n",
    "print 'spss_unrotated:', loading_factors_spss_unrotated.shape, abs(loading_factors_spss_unrotated).sum()\n",
    "print 'spss_rotated:', loading_factors_spss_rotated.shape, 'sum:', abs(loading_factors_spss_rotated).sum()\n",
    "print '----------------'\n",
    "print 'Homebrew loading factor matrix files:'\n",
    "print 'homebrew_unrotated:', loading_factors_matrix_3.T.shape, 'sum:', abs(loading_factors_matrix_3).sum()\n",
    "print 'homebrew_rotated:', loading_factors_matrix_rotated_3.shape, 'sum:', abs(loading_factors_matrix_rotated_3).sum()\n",
    "print '-----pairwise comparison-------------'\n",
    "\n",
    "# http://stackoverflow.com/questions/25962838/check-if-float-is-close-to-any-float-stored-in-array\n",
    "if np.isclose(loading_factors_spss_unrotated, loading_factors_matrix_3.T).any():\n",
    "    print \"unrotated loading_factors_matrix are similar using np.isclose\"\n",
    "    \n",
    "if np.isclose(loading_factors_spss_rotated, loading_factors_matrix_rotated_3, atol=1e-04).any():\n",
    "    print \"rotated loading_factors_matrix are similar using np.isclose\""
   ]
  },
  {
   "cell_type": "code",
   "execution_count": 473,
   "metadata": {
    "collapsed": false
   },
   "outputs": [
    {
     "data": {
      "text/plain": [
       "numpy.matrixlib.defmatrix.matrix"
      ]
     },
     "execution_count": 473,
     "metadata": {},
     "output_type": "execute_result"
    }
   ],
   "source": [
    "type(loading_factors_matrix_rotated_3)"
   ]
  },
  {
   "cell_type": "code",
   "execution_count": 475,
   "metadata": {
    "collapsed": false
   },
   "outputs": [],
   "source": [
    "z = np.asarray(loading_factors_matrix_rotated_3)"
   ]
  },
  {
   "cell_type": "code",
   "execution_count": 477,
   "metadata": {
    "collapsed": false
   },
   "outputs": [
    {
     "data": {
      "text/plain": [
       "numpy.ndarray"
      ]
     },
     "execution_count": 477,
     "metadata": {},
     "output_type": "execute_result"
    }
   ],
   "source": [
    "z.shape\n",
    "type(z)"
   ]
  }
 ],
 "metadata": {
  "kernelspec": {
   "display_name": "Python 2",
   "language": "python",
   "name": "python2"
  },
  "language_info": {
   "codemirror_mode": {
    "name": "ipython",
    "version": 2
   },
   "file_extension": ".py",
   "mimetype": "text/x-python",
   "name": "python",
   "nbconvert_exporter": "python",
   "pygments_lexer": "ipython2",
   "version": "2.7.10"
  }
 },
 "nbformat": 4,
 "nbformat_minor": 0
}
