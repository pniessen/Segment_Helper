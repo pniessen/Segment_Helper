{
 "cells": [
  {
   "cell_type": "code",
   "execution_count": 58,
   "metadata": {
    "collapsed": false
   },
   "outputs": [
    {
     "name": "stdout",
     "output_type": "stream",
     "text": [
      "responder data loaded:  (1980, 2)\n"
     ]
    }
   ],
   "source": [
    "import numpy as np\n",
    "import os\n",
    "import pandas as pd\n",
    "\n",
    "filename = '/Users/pniessen/Rosetta_Desktop/Segmentation_2-point-0/segmentr/web/test_weights_v1.csv'\n",
    "\n",
    "responder_df = pd.DataFrame.from_csv(filename)\n",
    "responder_data = np.asarray(responder_df)\n",
    "#responder_data = np.genfromtxt(filename, delimiter=',', skip_header=1)\n",
    "print 'responder data loaded: ', responder_data.shape\n",
    "\n",
    "def calculate_weights(responder_data):\n",
    "\n",
    "    weights = []\n",
    "\n",
    "    # target populations (source: US Census)\n",
    "    target_age_categories = ['18-24','25-34','35-44','45-54','55-65']\n",
    "    target_age_distribution = [.15,.22,.20,.21,.22]\n",
    "    target_age_dict = dict(zip(target_age_categories, target_age_distribution))\n",
    "    print target_age_dict\n",
    "\n",
    "    target_gender_categories = ['Male','Female']\n",
    "    target_gender_distribution = [.4979, .5021]\n",
    "    target_gender_dict = dict(zip(target_gender_categories, target_gender_distribution))\n",
    "    print target_gender_dict\n",
    "\n",
    "    # calculate age_share, gender_share\n",
    "    responder_age_shares = [float(sum(responder_data[:,0]==c1))/len(responder_data) for c1 in target_age_categories]\n",
    "    responder_age_dict = dict(zip(target_age_categories, responder_age_shares))\n",
    "    responder_gender_shares = [float(sum(responder_data[:,1]==c2))/len(responder_data) for c2 in target_gender_categories]\n",
    "    responder_gender_dict = dict(zip(target_gender_categories, responder_gender_shares))\n",
    "    print responder_age_shares, responder_gender_shares\n",
    "    print responder_age_dict, responder_gender_dict\n",
    "\n",
    "    for responder in range(len(responder_data))[:10]:\n",
    "        print responder,\n",
    "        responder_age = responder_data[responder, 0]\n",
    "        responder_gender = responder_data[responder,1]\n",
    "        one_weight = (responder_age_dict[responder_age]/ target_age_dict[responder_age])* (responder_gender_dict[responder_gender] / target_gender_dict[responder_gender]) \n",
    "        print one_weight, \n",
    "        weights.append(one_weight)\n",
    "\n",
    "    return weights"
   ]
  },
  {
   "cell_type": "code",
   "execution_count": 59,
   "metadata": {
    "collapsed": false
   },
   "outputs": [
    {
     "name": "stdout",
     "output_type": "stream",
     "text": [
      "{'35-44': 0.2, '45-54': 0.21, '18-24': 0.15, '25-34': 0.22, '55-65': 0.22}\n",
      "{'Male': 0.4979, 'Female': 0.5021}\n",
      "[0.12222222222222222, 0.19747474747474747, 0.26262626262626265, 0.22424242424242424, 0.19343434343434343] [0.4696969696969697, 0.5303030303030303]\n",
      "{'35-44': 0.26262626262626265, '45-54': 0.22424242424242424, '18-24': 0.12222222222222222, '25-34': 0.19747474747474747, '55-65': 0.19343434343434343} {'Male': 0.4696969696969697, 'Female': 0.5303030303030303}\n",
      "0 1.12780073309 1 0.928634448841 2 1.12780073309 3 0.928634448841 4 0.928634448841 5 1.12780073309 6 0.948031513047 7 0.928634448841 8 0.948031513047 9 0.928634448841\n"
     ]
    }
   ],
   "source": [
    "weights = calculate_weights(responder_data)"
   ]
  },
  {
   "cell_type": "code",
   "execution_count": null,
   "metadata": {
    "collapsed": false
   },
   "outputs": [],
   "source": []
  },
  {
   "cell_type": "code",
   "execution_count": 60,
   "metadata": {
    "collapsed": false
   },
   "outputs": [
    {
     "name": "stdout",
     "output_type": "stream",
     "text": [
      "weights file written to: test_weights_X_v1.csv\n"
     ]
    }
   ],
   "source": [
    "weights_outfilename = 'test_weights_X_v1.csv'\n",
    "\n",
    "with open(weights_outfilename,'w') as f:\n",
    "    f.writelines( \"%s\\n\" % item for item in weights)\n",
    "    f.close()\n",
    "\n",
    "print 'weights file written to:', weights_outfilename"
   ]
  },
  {
   "cell_type": "code",
   "execution_count": null,
   "metadata": {
    "collapsed": true
   },
   "outputs": [],
   "source": []
  }
 ],
 "metadata": {
  "kernelspec": {
   "display_name": "Python 2",
   "language": "python",
   "name": "python2"
  },
  "language_info": {
   "codemirror_mode": {
    "name": "ipython",
    "version": 2
   },
   "file_extension": ".py",
   "mimetype": "text/x-python",
   "name": "python",
   "nbconvert_exporter": "python",
   "pygments_lexer": "ipython2",
   "version": "2.7.10"
  }
 },
 "nbformat": 4,
 "nbformat_minor": 0
}
