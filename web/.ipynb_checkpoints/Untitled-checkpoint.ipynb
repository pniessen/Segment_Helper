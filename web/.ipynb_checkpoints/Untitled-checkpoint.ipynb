{
 "cells": [
  {
   "cell_type": "code",
   "execution_count": 5,
   "metadata": {
    "collapsed": false
   },
   "outputs": [
    {
     "ename": "IndentationError",
     "evalue": "unindent does not match any outer indentation level (<ipython-input-5-d02718cdbb2c>, line 17)",
     "output_type": "error",
     "traceback": [
      "\u001b[0;36m  File \u001b[0;32m\"<ipython-input-5-d02718cdbb2c>\"\u001b[0;36m, line \u001b[0;32m17\u001b[0m\n\u001b[0;31m    print target_age_dict\u001b[0m\n\u001b[0m                         ^\u001b[0m\n\u001b[0;31mIndentationError\u001b[0m\u001b[0;31m:\u001b[0m unindent does not match any outer indentation level\n"
     ]
    }
   ],
   "source": [
    "import numpy as np\n",
    "import os\n",
    "filename = '/Users/pniessen/Rosetta_Desktop/Segmentation_2-point-0/segmentr/web/test_weights_v1.csv'\n",
    "\n",
    "responder_data = np.genfromtxt(filename, delimiter=',', skip_header=1)\n",
    "print 'responder data loaded: ', responder_data.shape\n",
    "print responder_data\n",
    "\n",
    "def calculate_weights(responder_data):\n",
    "\n",
    "\tweights = []\n",
    "\n",
    "\t# target populations (source: US Census)\n",
    "\ttarget_age_categories = ['18-24','25-34','35-44','45-54','55-65']\n",
    "\ttarget_age_distribution = [15,22,20,21,22]\n",
    "\ttarget_age_dict = dict(zip(target_age_categories, target_age_distribution))\n",
    "    print target_age_dict\n",
    "    \n",
    "\ttarget_gender_categories = ['male','female']\n",
    "\ttarget_gender_distribution = [49.79, 50.21]\n",
    "\ttarget_gender_dict = dict(zip(target_gender_categories, target_gender_distribution))\n",
    "    print target_gender_dict\n",
    "\n",
    "\t# calculate age_share, gender_share\n",
    "\tresponder_age_shares = [sum(responder_data[responder_data[:,1]==c1][:,1]) for c1 in target_age_categories]\n",
    "\tresponder_age_dict = dict(zip(target_age_categories, responder_age_shares))\n",
    "\tresponder_gender_shares = [sum(responder_data[responder_data[:,2]==c2][:,2]) for c2 in target_gender_categories]\n",
    "\tresponder_gender_dict = dict(zip(target_age_categories, responder_age_shares))\n",
    "    print responder_age_shares, responder_gender_shares\n",
    "\n",
    "\tfor responder in range(len(responder_data)):\n",
    "\t\tresponder_age = responder_data[responder, 1]\n",
    "\t\tresponder_gender = responder_data[responder,2]\n",
    "\t\tone_weight = responder_age_dict[responder_age]* responder_gender_dict[responder_gender] / target_age_dict[responder_age] * target_gender_dict[responder_gender]\n",
    "\t\tweights.append(one_weight)\n",
    "\n",
    "\treturn weights"
   ]
  },
  {
   "cell_type": "code",
   "execution_count": null,
   "metadata": {
    "collapsed": true
   },
   "outputs": [],
   "source": []
  }
 ],
 "metadata": {
  "kernelspec": {
   "display_name": "Python 2",
   "language": "python",
   "name": "python2"
  },
  "language_info": {
   "codemirror_mode": {
    "name": "ipython",
    "version": 2
   },
   "file_extension": ".py",
   "mimetype": "text/x-python",
   "name": "python",
   "nbconvert_exporter": "python",
   "pygments_lexer": "ipython2",
   "version": "2.7.10"
  }
 },
 "nbformat": 4,
 "nbformat_minor": 0
}
