{
 "cells": [
  {
   "cell_type": "code",
   "execution_count": 247,
   "metadata": {
    "collapsed": true
   },
   "outputs": [],
   "source": [
    "import numpy as np\n",
    "import pandas as pd\n",
    "infile = '/Users/pniessen/Rosetta_Desktop/Segmentation_2-point-0/segmentr/web/research_files/labelled_data/GP_Content_Seg_Input_File_092115_Full_Data.csv'"
   ]
  },
  {
   "cell_type": "code",
   "execution_count": 273,
   "metadata": {
    "collapsed": false
   },
   "outputs": [],
   "source": [
    "#X = np.genfromtxt(infile, delimiter=',', skip_header=2)\n",
    "X = pd.DataFrame.from_csv(infile)\n",
    "Y = pd.DataFrame.from_csv(infile)"
   ]
  },
  {
   "cell_type": "code",
   "execution_count": 276,
   "metadata": {
    "collapsed": false
   },
   "outputs": [
    {
     "data": {
      "text/plain": [
       "q26_1        q26_1_Receive recognition for my work (SHARING)\n",
       "q26_2      q26_2_Strengthen relationships with people who...\n",
       "q26_3                 q26_3_Fit in with my friends (SHARING)\n",
       "q26_4           q26_4_Stand out from my peer group (SHARING)\n",
       "q26_5         q26_5_Keep in touch with my friends and family\n",
       "q26_6      q26_6_Contribute to causes or other things I b...\n",
       "q26_7                 q26_7_Feel good about myself (SHARING)\n",
       "q26_8      q26_8_Show my friends and/or family what I hav...\n",
       "q26_9                 q26_9_Share my experiences with others\n",
       "q26_10                                   q26_10_Tell a story\n",
       "q26_11                   q26_11_Express my personal identity\n",
       "q26_12                   q26_12_Just pass the time (SHARING)\n",
       "q26_13                             q26_13_Have fun (SHARING)\n",
       "q31_1      q31_1_I often share photos and videos that I t...\n",
       "q31_2      q31_2_I often share photos and videos I find p...\n",
       "q31_3      q31_3_I_m uncomfortable with the thought of my...\n",
       "q31_4      q31_4_I like making my photos and videos avail...\n",
       "q31_5      q31_5_I tend to keep all of my online photos a...\n",
       "q31_6      q31_6_When sharing photos and videos, I typica...\n",
       "q31_7      q31_7_I am very careful about how I portray my...\n",
       "q31_8      q31_8_I often ask my friends / family not to s...\n",
       "q31_9      q31_9_I enjoy sharing photos and videos with p...\n",
       "q31_10     q31_10_I try to share photos and videos within...\n",
       "q31_11     q31_11_I only want friends and/or family to be...\n",
       "q31_12     q31_12_Sharing photos and videos is one of the...\n",
       "q31_13     q31_13_I share any photos and videos that I wa...\n",
       "q31_14     q31_14_I like to cultivate a large Internet fo...\n",
       "q31_15     q31_15_I sometimes untag photos and videos of ...\n",
       "q31_16     q31_16_I prefer to share pictures and videos v...\n",
       "q31_17     q31_17_I like to stream or broadcast things th...\n",
       "                                 ...                        \n",
       "q20_2      q20_2_I use automatic / automated backup features\n",
       "q20_3      q20_3_It is important to me that my photos and...\n",
       "q20_4      q20_4_I sort through the photos and videos I t...\n",
       "q20_5      q20_5_I put my photos and videos into folders ...\n",
       "q20_6      q20_6_I add tags, labels or captions to my pho...\n",
       "q24a_1        q24a_1_Myself (including \"selfies\")_Type_Share\n",
       "q24a_2                         q24a_2_My children_Type_Share\n",
       "q24a_3                q24a_3_Other family members_Type_Share\n",
       "q24a_4                           q24a_4_My pet(s)_Type_Share\n",
       "q24a_5                          q24a_5_My friends_Type_Share\n",
       "q24a_6      q24a_6_Buildings and other structures_Type_Share\n",
       "q24a_7                    q24a_7_Nature / Scenery_Type_Share\n",
       "q24a_8                   q24a_8_Sites / Landmarks_Type_Share\n",
       "q24a_9                    q24a_9_Everyday objects_Type_Share\n",
       "q24a_10    q24a_10_Athletes, celebrities, actors, musicia...\n",
       "q24a_11      q24a_11_Cars, Boats, Airplanes, etc._Type_Share\n",
       "q25a_1                          q25a_1_Holidays_Events_Share\n",
       "q25a_2                         q25a_2_Birthdays_Events_Share\n",
       "q25a_3     q25a_3_Major ceremonies (e.g., weddings, gradu...\n",
       "q25a_4       q25a_4_Parties / social gatherings_Events_Share\n",
       "q25a_5     q25a_5_Children_s events (e.g., sports, plays,...\n",
       "q25a_6     q25a_6_Sporting events (e.g., professional, co...\n",
       "q25a_7                          q25a_7_Concerts_Events_Share\n",
       "q25a_8                         q25a_8_Vacations_Events_Share\n",
       "q25a_9     q25a_9_Day trips (e.g., to the beach, hiking, ...\n",
       "q25a_10    q25a_10_Shows and exhibitions (e.g., car shows...\n",
       "q25a_11           q25a_11_\"Everyday\" activities_Events_Share\n",
       "q25a_12    q25a_12_Sports and/or athletic activities that...\n",
       "q27_1      q27_1_Photos shared (Please select the option ...\n",
       "q28_1      q28_1_Videos shared (Please select the option ...\n",
       "Name: respid, dtype: object"
      ]
     },
     "execution_count": 276,
     "metadata": {},
     "output_type": "execute_result"
    }
   ],
   "source": [
    "X.ix[0,:]"
   ]
  },
  {
   "cell_type": "code",
   "execution_count": 249,
   "metadata": {
    "collapsed": false
   },
   "outputs": [],
   "source": [
    "X = X.ix[3:,6:]\n",
    "Y = Y.ix[3:,6:]\n",
    "question_names = X.columns\n",
    "X = pd.DataFrame.as_matrix(X) #(row, col)"
   ]
  },
  {
   "cell_type": "code",
   "execution_count": 251,
   "metadata": {
    "collapsed": false
   },
   "outputs": [
    {
     "name": "stdout",
     "output_type": "stream",
     "text": [
      "65246\n"
     ]
    }
   ],
   "source": [
    "null_counter = 0\n",
    "# for col in X.columns:\n",
    "#     for index in X.index:\n",
    "for col in range(X.shape[0]):\n",
    "    for index in range(X.shape[1]):\n",
    "        val = X[col][index]\n",
    "        if val == '#NULL!' or val == ' ':\n",
    "            val = 'n/a'\n",
    "            null_counter += 1\n",
    "        a = chr(146) # single quotation mark\n",
    "        X[col][index] = val.replace(\"'\",\"\").replace(\"’\",\"\").replace(a,\"\").replace(\" \",\"_\")\n",
    "        #val.decode('CP1252', 'ignore').encode('utf-8', 'ignore')\n",
    "\n",
    "print null_counter"
   ]
  },
  {
   "cell_type": "code",
   "execution_count": 252,
   "metadata": {
    "collapsed": false
   },
   "outputs": [],
   "source": [
    "response_dict = {}\n",
    "# for col in X.columns:\n",
    "for index, question in enumerate(question_names):\n",
    "    response_dict[question] = {}\n",
    "    response_dict[question]['verbatim'] = sorted(list(set(X[:,index])))\n",
    "    for item in response_dict[question]['verbatim']:\n",
    "        response_dict[question][item] = response_dict[question]['verbatim'].index(item) + 1\n",
    "        response_dict[question][response_dict[question][item]] = item"
   ]
  },
  {
   "cell_type": "code",
   "execution_count": 253,
   "metadata": {
    "collapsed": false
   },
   "outputs": [],
   "source": [
    "for col in range(X.shape[0]):\n",
    "    for index in range(X.shape[1]):\n",
    "        val = X[col][index]\n",
    "        X[col][index] = response_dict[question_names[index]][val]"
   ]
  },
  {
   "cell_type": "code",
   "execution_count": 254,
   "metadata": {
    "collapsed": false
   },
   "outputs": [
    {
     "data": {
      "text/plain": [
       "array([[3, 2, 3, ..., 3, 2, 2],\n",
       "       [3, 3, 3, ..., 3, 1, 1],\n",
       "       [3, 3, 3, ..., 3, 2, 2],\n",
       "       ..., \n",
       "       [3, 3, 3, ..., 3, 2, 1],\n",
       "       [3, 2, 3, ..., 2, 2, 2],\n",
       "       [2, 2, 3, ..., 2, 4, 2]], dtype=object)"
      ]
     },
     "execution_count": 254,
     "metadata": {},
     "output_type": "execute_result"
    }
   ],
   "source": []
  },
  {
   "cell_type": "code",
   "execution_count": 317,
   "metadata": {
    "collapsed": false
   },
   "outputs": [],
   "source": [
    "Z = pd.DataFrame(X)\n",
    "Z.columns = question_names"
   ]
  },
  {
   "cell_type": "code",
   "execution_count": 318,
   "metadata": {
    "collapsed": false
   },
   "outputs": [
    {
     "data": {
      "text/plain": [
       "count                                                  1981\n",
       "unique                                                    9\n",
       "top       a_Employed full-time by someone else, working ...\n",
       "freq                                                   1113\n",
       "Name: q50, dtype: object"
      ]
     },
     "execution_count": 318,
     "metadata": {},
     "output_type": "execute_result"
    }
   ],
   "source": [
    "Z['q50'].describe()"
   ]
  },
  {
   "cell_type": "code",
   "execution_count": 319,
   "metadata": {
    "collapsed": false
   },
   "outputs": [
    {
     "data": {
      "text/plain": [
       "{1: 'a_Employed_full-time_by_someone_else,_working_30_hours_or_more_per_week',\n",
       " 2: 'b_Employed_part-time_by_someone_else,_working_less_than_30_hours_per_week',\n",
       " 3: 'c_Self-employed_(either_full-time_or_part-time)',\n",
       " 4: 'd_Student',\n",
       " 5: 'e_Homemaker',\n",
       " 6: 'f_Unemployed',\n",
       " 7: 'g_Retired',\n",
       " 8: 'z_Other',\n",
       " 'a_Employed_full-time_by_someone_else,_working_30_hours_or_more_per_week': 1,\n",
       " 'b_Employed_part-time_by_someone_else,_working_less_than_30_hours_per_week': 2,\n",
       " 'c_Self-employed_(either_full-time_or_part-time)': 3,\n",
       " 'd_Student': 4,\n",
       " 'e_Homemaker': 5,\n",
       " 'f_Unemployed': 6,\n",
       " 'g_Retired': 7,\n",
       " 'verbatim': ['a_Employed_full-time_by_someone_else,_working_30_hours_or_more_per_week',\n",
       "  'b_Employed_part-time_by_someone_else,_working_less_than_30_hours_per_week',\n",
       "  'c_Self-employed_(either_full-time_or_part-time)',\n",
       "  'd_Student',\n",
       "  'e_Homemaker',\n",
       "  'f_Unemployed',\n",
       "  'g_Retired',\n",
       "  'z_Other'],\n",
       " 'z_Other': 8}"
      ]
     },
     "execution_count": 319,
     "metadata": {},
     "output_type": "execute_result"
    }
   ],
   "source": [
    "response_dict['q50']"
   ]
  },
  {
   "cell_type": "code",
   "execution_count": 268,
   "metadata": {
    "collapsed": false
   },
   "outputs": [
    {
     "data": {
      "text/plain": [
       "357"
      ]
     },
     "execution_count": 268,
     "metadata": {},
     "output_type": "execute_result"
    }
   ],
   "source": [
    "len(Y.ix[0,:])"
   ]
  },
  {
   "cell_type": "code",
   "execution_count": 278,
   "metadata": {
    "collapsed": false
   },
   "outputs": [
    {
     "ename": "SyntaxError",
     "evalue": "invalid syntax (<ipython-input-278-e7ebada3bfea>, line 1)",
     "output_type": "error",
     "traceback": [
      "\u001b[0;36m  File \u001b[0;32m\"<ipython-input-278-e7ebada3bfea>\"\u001b[0;36m, line \u001b[0;32m1\u001b[0m\n\u001b[0;31m    ord(Õ)\u001b[0m\n\u001b[0m        ^\u001b[0m\n\u001b[0;31mSyntaxError\u001b[0m\u001b[0;31m:\u001b[0m invalid syntax\n"
     ]
    }
   ],
   "source": [
    "ord(Õ)"
   ]
  },
  {
   "cell_type": "code",
   "execution_count": 316,
   "metadata": {
    "collapsed": false
   },
   "outputs": [
    {
     "data": {
      "text/plain": [
       "'q35_3_I_subscribe_to_my_favorite_content_creators_channels_on_YouTube_or_other_similar_services'"
      ]
     },
     "execution_count": 316,
     "metadata": {},
     "output_type": "execute_result"
    }
   ],
   "source": [
    "question = 'q35_3_I subscribe to my favorite content creatorsÕ channels on YouTube or other similar services'\n",
    "question = [q.replace(\"'\",\"\").replace(\"’\",\"\").replace(a,\"\").replace(\" \",\"_\") for q in question]\n",
    "question_2 = []\n",
    "for q in question:\n",
    "    try:\n",
    "        q2 = q.encode('utf-8').decode('utf-8','ignore').encode(\"utf-8\")\n",
    "    except:\n",
    "        q2 = ''\n",
    "    question_2.append(q2)\n",
    "''.join(question_2)"
   ]
  },
  {
   "cell_type": "code",
   "execution_count": 313,
   "metadata": {
    "collapsed": false
   },
   "outputs": [
    {
     "data": {
      "text/plain": [
       "['q',\n",
       " '3',\n",
       " '5',\n",
       " '_',\n",
       " '3',\n",
       " '_',\n",
       " 'I',\n",
       " '_',\n",
       " 's',\n",
       " 'u',\n",
       " 'b',\n",
       " 's',\n",
       " 'c',\n",
       " 'r',\n",
       " 'i',\n",
       " 'b',\n",
       " 'e',\n",
       " '_',\n",
       " 't',\n",
       " 'o',\n",
       " '_',\n",
       " 'm',\n",
       " 'y',\n",
       " '_',\n",
       " 'f',\n",
       " 'a',\n",
       " 'v',\n",
       " 'o',\n",
       " 'r',\n",
       " 'i',\n",
       " 't',\n",
       " 'e',\n",
       " '_',\n",
       " 'c',\n",
       " 'o',\n",
       " 'n',\n",
       " 't',\n",
       " 'e',\n",
       " 'n',\n",
       " 't',\n",
       " '_',\n",
       " 'c',\n",
       " 'r',\n",
       " 'e',\n",
       " 'a',\n",
       " 't',\n",
       " 'o',\n",
       " 'r',\n",
       " 's',\n",
       " '\\xc3',\n",
       " '\\x95',\n",
       " '_',\n",
       " 'c',\n",
       " 'h',\n",
       " 'a',\n",
       " 'n',\n",
       " 'n',\n",
       " 'e',\n",
       " 'l',\n",
       " 's',\n",
       " '_',\n",
       " 'o',\n",
       " 'n',\n",
       " '_',\n",
       " 'Y',\n",
       " 'o',\n",
       " 'u',\n",
       " 'T',\n",
       " 'u',\n",
       " 'b',\n",
       " 'e',\n",
       " '_',\n",
       " 'o',\n",
       " 'r',\n",
       " '_',\n",
       " 'o',\n",
       " 't',\n",
       " 'h',\n",
       " 'e',\n",
       " 'r',\n",
       " '_',\n",
       " 's',\n",
       " 'i',\n",
       " 'm',\n",
       " 'i',\n",
       " 'l',\n",
       " 'a',\n",
       " 'r',\n",
       " '_',\n",
       " 's',\n",
       " 'e',\n",
       " 'r',\n",
       " 'v',\n",
       " 'i',\n",
       " 'c',\n",
       " 'e',\n",
       " 's']"
      ]
     },
     "execution_count": 313,
     "metadata": {},
     "output_type": "execute_result"
    }
   ],
   "source": [
    "question"
   ]
  },
  {
   "cell_type": "code",
   "execution_count": 299,
   "metadata": {
    "collapsed": false
   },
   "outputs": [
    {
     "data": {
      "text/plain": [
       "'q35_3_I_subscribe_to_my_favorite_content_creators_channels_on_YouTube_or_other_similar_services'"
      ]
     },
     "execution_count": 299,
     "metadata": {},
     "output_type": "execute_result"
    }
   ],
   "source": [
    "''.join(question_2)"
   ]
  },
  {
   "cell_type": "code",
   "execution_count": null,
   "metadata": {
    "collapsed": true
   },
   "outputs": [],
   "source": []
  }
 ],
 "metadata": {
  "kernelspec": {
   "display_name": "Python 2",
   "language": "python",
   "name": "python2"
  },
  "language_info": {
   "codemirror_mode": {
    "name": "ipython",
    "version": 2
   },
   "file_extension": ".py",
   "mimetype": "text/x-python",
   "name": "python",
   "nbconvert_exporter": "python",
   "pygments_lexer": "ipython2",
   "version": "2.7.10"
  }
 },
 "nbformat": 4,
 "nbformat_minor": 0
}
