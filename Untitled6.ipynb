{
 "cells": [
  {
   "cell_type": "code",
   "execution_count": 1,
   "metadata": {
    "collapsed": false
   },
   "outputs": [
    {
     "name": "stderr",
     "output_type": "stream",
     "text": [
      "Loading required package: xml2\n"
     ]
    }
   ],
   "source": [
    "library(rvest)"
   ]
  },
  {
   "cell_type": "code",
   "execution_count": 2,
   "metadata": {
    "collapsed": true
   },
   "outputs": [],
   "source": [
    "library(httr)"
   ]
  },
  {
   "cell_type": "code",
   "execution_count": 5,
   "metadata": {
    "collapsed": true
   },
   "outputs": [],
   "source": [
    "setwd('/Users/pniessen/Rosetta_Desktop/price_scraper')\n",
    "uastring <- \"Mozilla/5.0 (Windows NT 6.1) AppleWebKit/537.36 (KHTML, like Gecko) Chrome/41.0.2228.0 Safari/537.36\""
   ]
  },
  {
   "cell_type": "code",
   "execution_count": 6,
   "metadata": {
    "collapsed": false
   },
   "outputs": [],
   "source": [
    "searchurl <- html_session('http://www.dickssportinggoods.com/family/index.jsp?categoryId=70516886&sr=1&origkw=running+shoes', user_agent(uastring))"
   ]
  },
  {
   "cell_type": "code",
   "execution_count": 7,
   "metadata": {
    "collapsed": false
   },
   "outputs": [
    {
     "data": {
      "text/plain": [
       "<session> http://www.dickssportinggoods.com/family/index.jsp?categoryId=70516886&sr=1&origkw=running+shoes\n",
       "  Status: 200\n",
       "  Type:   text/html; charset=ISO-8859-1\n",
       "  Size:   652242"
      ]
     },
     "execution_count": 7,
     "metadata": {},
     "output_type": "execute_result"
    }
   ],
   "source": [
    "searchurl"
   ]
  },
  {
   "cell_type": "code",
   "execution_count": 8,
   "metadata": {
    "collapsed": true
   },
   "outputs": [],
   "source": [
    "itemprices <- html_text(html_nodes(searchurl,\".ourPrice2\"))"
   ]
  },
  {
   "cell_type": "code",
   "execution_count": 9,
   "metadata": {
    "collapsed": false
   },
   "outputs": [
    {
     "data": {
      "text/html": [
       "<ol class=list-inline>\n",
       "\t<li>'$199.99'</li>\n",
       "\t<li>'$174.99'</li>\n",
       "\t<li>'$174.99'</li>\n",
       "\t<li>'$174.99'</li>\n",
       "\t<li>'$149.99'</li>\n",
       "\t<li>'$149.99'</li>\n",
       "\t<li>'$149.99'</li>\n",
       "\t<li>'$189.99'</li>\n",
       "\t<li>'$109.99'</li>\n",
       "\t<li>'$109.99'</li>\n",
       "\t<li>'$99.99'</li>\n",
       "\t<li>'$199.99'</li>\n",
       "\t<li>'$99.99'</li>\n",
       "\t<li>'$199.99'</li>\n",
       "\t<li>'$199.99'</li>\n",
       "\t<li>'$199.99'</li>\n",
       "\t<li>'$149.99'</li>\n",
       "\t<li>'$149.99'</li>\n",
       "\t<li>'$149.99'</li>\n",
       "\t<li>'$149.99'</li>\n",
       "\t<li>'$139.99'</li>\n",
       "\t<li>'$139.99'</li>\n",
       "\t<li>'$139.99'</li>\n",
       "\t<li>'$139.99'</li>\n",
       "\t<li>'$139.99'</li>\n",
       "\t<li>'$139.99'</li>\n",
       "\t<li>'$139.99'</li>\n",
       "\t<li>'$139.99'</li>\n",
       "\t<li>'$129.99'</li>\n",
       "\t<li>'$129.99'</li>\n",
       "\t<li>'$129.99'</li>\n",
       "\t<li>'$129.99'</li>\n",
       "\t<li>'$119.99'</li>\n",
       "\t<li>'$119.99'</li>\n",
       "\t<li>'$119.99'</li>\n",
       "\t<li>'$119.99'</li>\n",
       "\t<li>'$119.99'</li>\n",
       "\t<li>'$119.99'</li>\n",
       "\t<li>'$119.99'</li>\n",
       "\t<li>'$119.99'</li>\n",
       "\t<li>'$119.99'</li>\n",
       "\t<li>'$119.99'</li>\n",
       "\t<li>'$109.99'</li>\n",
       "\t<li>'$109.99'</li>\n",
       "\t<li>'$109.99'</li>\n",
       "\t<li>'$109.99'</li>\n",
       "\t<li>'$109.99'</li>\n",
       "\t<li>'$109.99'</li>\n",
       "</ol>\n"
      ],
      "text/latex": [
       "\\begin{enumerate*}\n",
       "\\item '$199.99'\n",
       "\\item '$174.99'\n",
       "\\item '$174.99'\n",
       "\\item '$174.99'\n",
       "\\item '$149.99'\n",
       "\\item '$149.99'\n",
       "\\item '$149.99'\n",
       "\\item '$189.99'\n",
       "\\item '$109.99'\n",
       "\\item '$109.99'\n",
       "\\item '$99.99'\n",
       "\\item '$199.99'\n",
       "\\item '$99.99'\n",
       "\\item '$199.99'\n",
       "\\item '$199.99'\n",
       "\\item '$199.99'\n",
       "\\item '$149.99'\n",
       "\\item '$149.99'\n",
       "\\item '$149.99'\n",
       "\\item '$149.99'\n",
       "\\item '$139.99'\n",
       "\\item '$139.99'\n",
       "\\item '$139.99'\n",
       "\\item '$139.99'\n",
       "\\item '$139.99'\n",
       "\\item '$139.99'\n",
       "\\item '$139.99'\n",
       "\\item '$139.99'\n",
       "\\item '$129.99'\n",
       "\\item '$129.99'\n",
       "\\item '$129.99'\n",
       "\\item '$129.99'\n",
       "\\item '$119.99'\n",
       "\\item '$119.99'\n",
       "\\item '$119.99'\n",
       "\\item '$119.99'\n",
       "\\item '$119.99'\n",
       "\\item '$119.99'\n",
       "\\item '$119.99'\n",
       "\\item '$119.99'\n",
       "\\item '$119.99'\n",
       "\\item '$119.99'\n",
       "\\item '$109.99'\n",
       "\\item '$109.99'\n",
       "\\item '$109.99'\n",
       "\\item '$109.99'\n",
       "\\item '$109.99'\n",
       "\\item '$109.99'\n",
       "\\end{enumerate*}\n"
      ],
      "text/markdown": [
       "1. '$199.99'\n",
       "2. '$174.99'\n",
       "3. '$174.99'\n",
       "4. '$174.99'\n",
       "5. '$149.99'\n",
       "6. '$149.99'\n",
       "7. '$149.99'\n",
       "8. '$189.99'\n",
       "9. '$109.99'\n",
       "10. '$109.99'\n",
       "11. '$99.99'\n",
       "12. '$199.99'\n",
       "13. '$99.99'\n",
       "14. '$199.99'\n",
       "15. '$199.99'\n",
       "16. '$199.99'\n",
       "17. '$149.99'\n",
       "18. '$149.99'\n",
       "19. '$149.99'\n",
       "20. '$149.99'\n",
       "21. '$139.99'\n",
       "22. '$139.99'\n",
       "23. '$139.99'\n",
       "24. '$139.99'\n",
       "25. '$139.99'\n",
       "26. '$139.99'\n",
       "27. '$139.99'\n",
       "28. '$139.99'\n",
       "29. '$129.99'\n",
       "30. '$129.99'\n",
       "31. '$129.99'\n",
       "32. '$129.99'\n",
       "33. '$119.99'\n",
       "34. '$119.99'\n",
       "35. '$119.99'\n",
       "36. '$119.99'\n",
       "37. '$119.99'\n",
       "38. '$119.99'\n",
       "39. '$119.99'\n",
       "40. '$119.99'\n",
       "41. '$119.99'\n",
       "42. '$119.99'\n",
       "43. '$109.99'\n",
       "44. '$109.99'\n",
       "45. '$109.99'\n",
       "46. '$109.99'\n",
       "47. '$109.99'\n",
       "48. '$109.99'\n",
       "\n",
       "\n"
      ],
      "text/plain": [
       " [1] \"$199.99\" \"$174.99\" \"$174.99\" \"$174.99\" \"$149.99\" \"$149.99\" \"$149.99\"\n",
       " [8] \"$189.99\" \"$109.99\" \"$109.99\" \"$99.99\"  \"$199.99\" \"$99.99\"  \"$199.99\"\n",
       "[15] \"$199.99\" \"$199.99\" \"$149.99\" \"$149.99\" \"$149.99\" \"$149.99\" \"$139.99\"\n",
       "[22] \"$139.99\" \"$139.99\" \"$139.99\" \"$139.99\" \"$139.99\" \"$139.99\" \"$139.99\"\n",
       "[29] \"$129.99\" \"$129.99\" \"$129.99\" \"$129.99\" \"$119.99\" \"$119.99\" \"$119.99\"\n",
       "[36] \"$119.99\" \"$119.99\" \"$119.99\" \"$119.99\" \"$119.99\" \"$119.99\" \"$119.99\"\n",
       "[43] \"$109.99\" \"$109.99\" \"$109.99\" \"$109.99\" \"$109.99\" \"$109.99\""
      ]
     },
     "execution_count": 9,
     "metadata": {},
     "output_type": "execute_result"
    }
   ],
   "source": [
    "itemprices"
   ]
  },
  {
   "cell_type": "code",
   "execution_count": null,
   "metadata": {
    "collapsed": true
   },
   "outputs": [],
   "source": [
    "    "
   ]
  }
 ],
 "metadata": {
  "kernelspec": {
   "display_name": "R",
   "language": "R",
   "name": "ir"
  },
  "language_info": {
   "codemirror_mode": "r",
   "file_extension": ".r",
   "mimetype": "text/x-r-source",
   "name": "R",
   "pygments_lexer": "r",
   "version": "3.2.3"
  }
 },
 "nbformat": 4,
 "nbformat_minor": 0
}
